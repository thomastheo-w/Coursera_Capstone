{
 "cells": [
  {
   "cell_type": "markdown",
   "metadata": {},
   "source": [
    "### First, \n",
    "### A description of the problem and a discussion of the background. (15 marks)"
   ]
  },
  {
   "cell_type": "markdown",
   "metadata": {},
   "source": [
    "### *Background*\n",
    "\n",
    "#### Jakarta is the capital city (or soon will be the former) of the fourth most populous nation in the world, Indonesia. Jakarta has an area of almost of Singapore and population of 9.6million people, it’s way above Singapore’s 5million. Monumen Nasional (Monas) is arguably Jakarta’s most prolific landmark. The landmark symbolize the nation struggle for independence. Thus, it’s a very popular places for tourist, both domestics, and internationals. But unfortunately, the landmark does not have anything else to offer once you get bored, you might need to move to other recreation places near Monas. \n",
    "\n",
    "### *Objectives*\n",
    "\n",
    "#### To find recreation places near Monumen Nasional (Monas) that tourist can go to after visiting Monas.\n"
   ]
  },
  {
   "cell_type": "markdown",
   "metadata": {},
   "source": [
    "## Second,\n",
    "### A description of the data and how it will be used to solve the problem. (15 marks)"
   ]
  },
  {
   "cell_type": "markdown",
   "metadata": {},
   "source": [
    "### *Data acquisition*\n",
    "\n",
    "#### a. obtain Monumen Nasional geocode from Google Map;\n",
    "#### b. collect location data through Foursquare API website: https://developer.foursquare.com/ \n",
    "#### c. analyze data got through Foursquare for top three recreation places near Monas"
   ]
  },
  {
   "cell_type": "code",
   "execution_count": null,
   "metadata": {},
   "outputs": [],
   "source": []
  }
 ],
 "metadata": {
  "kernelspec": {
   "display_name": "Python",
   "language": "python",
   "name": "conda-env-python-py"
  },
  "language_info": {
   "codemirror_mode": {
    "name": "ipython",
    "version": 3
   },
   "file_extension": ".py",
   "mimetype": "text/x-python",
   "name": "python",
   "nbconvert_exporter": "python",
   "pygments_lexer": "ipython3",
   "version": "3.6.7"
  }
 },
 "nbformat": 4,
 "nbformat_minor": 4
}
